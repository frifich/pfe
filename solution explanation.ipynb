{
 "cells": [
  {
   "cell_type": "code",
   "execution_count": 113,
   "metadata": {},
   "outputs": [],
   "source": [
    "import csv\n",
    "import numpy as np\n",
    "import re\n",
    "import gc\n",
    "from colorama import Fore, Back, Style\n",
    "from collections import defaultdict"
   ]
  },
  {
   "cell_type": "code",
   "execution_count": 114,
   "metadata": {},
   "outputs": [],
   "source": [
    "solution_file = open(\"./processed_data/FinalSolutions-multilabel-argouml.txt\")\n",
    "solutions = []\n",
    "for line in solution_file:\n",
    "    line = line.lower()\n",
    "#     line = line.replace(\"nan\", \"\")\n",
    "    line = line.replace(\"\\n\", \"\")\n",
    "    solutions.append(str(line))"
   ]
  },
  {
   "cell_type": "code",
   "execution_count": 115,
   "metadata": {},
   "outputs": [
    {
     "data": {
      "text/plain": [
       "0"
      ]
     },
     "execution_count": 115,
     "metadata": {},
     "output_type": "execute_result"
    }
   ],
   "source": [
    "solution_str = []\n",
    "objectives = []\n",
    "for dd in solutions:\n",
    "    num_str = dd[-16:]\n",
    "    int_numbers = [int(nn) for nn in (re.findall('\\d+', num_str ))]\n",
    "    strs = dd[:-16]\n",
    "    if len(int_numbers)==6:\n",
    "        solution_str.append(strs)\n",
    "        objectives.append(np.array(int_numbers))\n",
    "    else:\n",
    "        continue\n",
    "del solutions\n",
    "gc.collect()"
   ]
  },
  {
   "cell_type": "code",
   "execution_count": 116,
   "metadata": {},
   "outputs": [
    {
     "data": {
      "text/plain": [
       "(5450, 5450)"
      ]
     },
     "execution_count": 116,
     "metadata": {},
     "output_type": "execute_result"
    }
   ],
   "source": [
    "len(solution_str), len(objectives)"
   ]
  },
  {
   "cell_type": "code",
   "execution_count": 117,
   "metadata": {},
   "outputs": [],
   "source": [
    "# Refactoring operations\n",
    "tmp = [\"Move Method\", \"Move Field\", \"Extract Class\", \"Push Down Field\", \"Push Down Method\", \"Extract Sub Class\",\\\n",
    "       \"Pull Up Field\", \"Pull Up Method\", \"Extract Super Class\", \"Encapsulate Field\", \"Increase Field Security\",\\\n",
    "       \"Decrease Field Security\", \"Increase Method Security\", \"Decrease Method Security\"]\n",
    "\n",
    "refactoring_operations = [refop.lower().replace(\" \", \"\") for refop in tmp]"
   ]
  },
  {
   "cell_type": "code",
   "execution_count": 118,
   "metadata": {},
   "outputs": [],
   "source": [
    "# number of important features\n",
    "num_important = 50\n",
    "\n",
    "important_features = dict()\n",
    "with open('./feature_ranking/important_features-ant.csv') as csvfile: \n",
    "    csv_reader = csv.reader(csvfile)\n",
    "    for line in csv_reader: \n",
    "        important_features[line[0]] = line[1:num_important + 1]\n"
   ]
  },
  {
   "cell_type": "code",
   "execution_count": 119,
   "metadata": {
    "scrolled": true
   },
   "outputs": [
    {
     "data": {
      "text/plain": [
       "{'Effectiveness': ['movefield',\n",
       "  'movemethod',\n",
       "  'orgapachetoolsanttaskdefstypedef',\n",
       "  'orgapachetoolsanttaskdefsmanifestexception',\n",
       "  'orgapachetoolsanttypesfilelist',\n",
       "  'orgapachetoolsanttypesfilterchain',\n",
       "  'increasefieldsecurity',\n",
       "  'encapsulatefield',\n",
       "  'orgapachetoolsanttypesdirset',\n",
       "  'orgapachetoolsanttypesselectorsmodifiedselectormodifiedselector',\n",
       "  'orgapachetoolsanttypesselectorsbaseselectorcontainer',\n",
       "  'orgapachetoolsanttarget',\n",
       "  'orgapachetoolsanthelperantxmlcontext',\n",
       "  'orgapachetoolsanttypesfilterset',\n",
       "  'orgapachetoolsantutilstringtokenizer',\n",
       "  'orgapachetoolsanttypesresourcesselectorsdate',\n",
       "  'orgapachetoolsanttypesregularexpression',\n",
       "  'orgapachetoolsanttypesselectorsmodifiedselectorhashvaluealgorithm',\n",
       "  'orgapachetoolsanttypesselectorsmodifiedselectorpropertiesfilecache',\n",
       "  'orgapachetoolsanttypesfileset',\n",
       "  'orgapachetoolsanttypesselectorsmodifiedselectordigestalgorithm',\n",
       "  'orgapachetoolsantutilfiletokenizer',\n",
       "  'orgapachetoolsantprojecthelper',\n",
       "  'orgapachetoolsantinputdefaultinputhandler',\n",
       "  'orgapachetoolsantdefaultlogger',\n",
       "  'orgapachetoolsanttypespath',\n",
       "  'orgapachetoolsanttypesfiltersetcollection',\n",
       "  'orgapachetoolsanttypesresourcesfileresource',\n",
       "  'orgapachetoolsanttypesselectorsmodifiedselectorequalcomparator',\n",
       "  'orgapachetoolsanttypesresourcesselectorsresourceselectorcontainer',\n",
       "  'orgapachetoolsanttypesselectorsnoneselector',\n",
       "  'orgapachetoolsanttypesparameter',\n",
       "  'orgapachetoolsanttypesselectorsdateselector',\n",
       "  'orgapachetoolsantpropertyhelper',\n",
       "  'orgapachetoolsanttaskdefsantlibdefinition',\n",
       "  'orgapachetoolsanttypesselectorsdifferentselector',\n",
       "  'orgapachetoolsanttypesresourcesselectorstype',\n",
       "  'orgapachetoolsantdiagnostics',\n",
       "  'orgapachetoolsanttypestimecomparison',\n",
       "  'orgapachetoolsantunknownelement',\n",
       "  'orgapachetoolsantlocation',\n",
       "  'orgapachetoolsanttypesresource',\n",
       "  'orgapachetoolsantinputinputrequest',\n",
       "  'orgapachetoolsantfilterslinecontainsregexp',\n",
       "  'orgapachetoolsanttaskdefsantlib',\n",
       "  'orgapachetoolsanttypesselectorspresentselector',\n",
       "  'orgapachetoolsanttypesresourcesresources',\n",
       "  'orgapachetoolsanttypesresourcesfileresourceiterator',\n",
       "  'orgapachetoolsanttypesselectorsmappingselector',\n",
       "  'decreasemethodsecurity'],\n",
       " 'Extendibility': ['extractsubclass',\n",
       "  'extractsuperclass',\n",
       "  'orgapachetoolsanttaskdefstypedef',\n",
       "  'orgapachetoolsantprojecthelper',\n",
       "  'orgapachetoolsanttaskdefsmanifestexception',\n",
       "  'orgapachetoolsantutilfiletokenizer',\n",
       "  'orgapachetoolsanttypesselectorspresentselector',\n",
       "  'orgapachetoolsanttask',\n",
       "  'orgapachetoolsanttypesresourcesfileresource',\n",
       "  'increasefieldsecurity',\n",
       "  'orgapachetoolsanttypesfilterset',\n",
       "  'orgapachetoolsanttypesfilelist',\n",
       "  'orgapachetoolsanttypesselectorsandselector',\n",
       "  'orgapachetoolsanttypesdirset',\n",
       "  'orgapachetoolsanttypesresourcesrestrict',\n",
       "  'orgapachetoolsanttypesselectorsnoneselector',\n",
       "  'orgapachetoolsantfilterslinecontainsregexp',\n",
       "  'orgapachetoolsanttypesselectorsmodifiedselectordigestalgorithm',\n",
       "  'orgapachetoolsantutilstringtokenizer',\n",
       "  'decreasemethodsecurity',\n",
       "  'orgapachetoolsanttypesselectorsselectselector',\n",
       "  'orgapachetoolsantfilterstailfilter',\n",
       "  'orgapachetoolsantdefaultlogger',\n",
       "  'orgapachetoolsantlocation',\n",
       "  'orgapachetoolsantutillinetokenizer',\n",
       "  'orgapachetoolsanttypesfilterchain',\n",
       "  'orgapachetoolsanttypesselectorsmajorityselector',\n",
       "  'orgapachetoolsanttypesfiltersetcollection',\n",
       "  'decreasefieldsecurity',\n",
       "  'orgapachetoolsanttypesselectorsorselector',\n",
       "  'orgapachetoolsanttypesselectorsextendselector',\n",
       "  'increasemethodsecurity',\n",
       "  'orgapachetoolsantutilidentitystack',\n",
       "  'orgapachetoolsanttypesregularexpression',\n",
       "  'orgapachetoolsanttaskadapter',\n",
       "  'orgapachetoolsanttypesparameter',\n",
       "  'orgapachetoolsanttypesdatatype',\n",
       "  'orgapachetoolsanttypesresourcesfileresourceiterator',\n",
       "  'orgapachetoolsanthelperantxmlcontext',\n",
       "  'orgapachetoolsanttypestimecomparison',\n",
       "  'pullupmethod',\n",
       "  'orgapachetoolsanttypesselectorsbaseselectorcontainer',\n",
       "  'orgapachetoolsanttypesresourcesselectorsexists',\n",
       "  'orgapachetoolsanttypesselectorsdepthselector',\n",
       "  'orgapachetoolsanttaskdefspresetdef',\n",
       "  'orgapachetoolsanttypesselectorsdateselector',\n",
       "  'orgapachetoolsanttypesfileset',\n",
       "  'orgapachetoolsanttypesselectorsmodifiedselectorhashvaluealgorithm',\n",
       "  'orgapachetoolsantfiltersexpandproperties',\n",
       "  'encapsulatefield'],\n",
       " 'Flexibility': ['movefield',\n",
       "  'movemethod',\n",
       "  'extractclass',\n",
       "  'orgapachetoolsanttaskdefsmanifestexception',\n",
       "  'orgapachetoolsanttypesselectorsmodifiedselectordigestalgorithm',\n",
       "  'orgapachetoolsantfiltersclassconstants',\n",
       "  'orgapachetoolsanttaskdefstypedef',\n",
       "  'orgapachetoolsantbuildevent',\n",
       "  'orgapachetoolsanthelperantxmlcontext',\n",
       "  'orgapachetoolsanttypesresourcesselectorsdate',\n",
       "  'orgapachetoolsantfiltersexpandproperties',\n",
       "  'orgapachetoolsanttypesselectorsmodifiedselectorequalcomparator',\n",
       "  'orgapachetoolsanttypesselectorsbaseselectorcontainer',\n",
       "  'orgapachetoolsantdefaultlogger',\n",
       "  'orgapachetoolsanttypesselectorsdepthselector',\n",
       "  'orgapachetoolsanttypesselectorsmodifiedselectorhashvaluealgorithm',\n",
       "  'orgapachetoolsantinputinputrequest',\n",
       "  'orgapachetoolsanttypesresourcesrestrict',\n",
       "  'orgapachetoolsantfilterstailfilter',\n",
       "  'orgapachetoolsantfilterstokenfilter',\n",
       "  'orgapachetoolsanttypesfiltersetcollection',\n",
       "  'orgapachetoolsanttypesfileset',\n",
       "  'encapsulatefield',\n",
       "  'orgapachetoolsantutilidentitymapper',\n",
       "  'orgapachetoolsanttypesfilterchain',\n",
       "  'orgapachetoolsanttypesfilterset',\n",
       "  'orgapachetoolsantutilfiletokenizer',\n",
       "  'orgapachetoolsantprojecthelper',\n",
       "  'orgapachetoolsantfiltersstripjavacomments',\n",
       "  'orgapachetoolsantfiltersescapeunicode',\n",
       "  'orgapachetoolsantruntimeconfigurable',\n",
       "  'orgapachetoolsanttypesresourcesfileresource',\n",
       "  'orgapachetoolsanttypesselectorsmodifiedselectorpropertiesfilecache',\n",
       "  'orgapachetoolsanttypesregularexpression',\n",
       "  'orgapachetoolsantutilstringtokenizer',\n",
       "  'decreasemethodsecurity',\n",
       "  'orgapachetoolsanttypesparameter',\n",
       "  'orgapachetoolsanttypesselectorsmodifiedselectorchecksumalgorithm',\n",
       "  'orgapachetoolsanttypesresourcesselectorsexists',\n",
       "  'orgapachetoolsanttypesselectorspresentselector',\n",
       "  'orgapachetoolsanttypesenumeratedattribute',\n",
       "  'orgapachetoolsanttypesresourcesselectorsnot',\n",
       "  'orgapachetoolsantutilidentitystack',\n",
       "  'orgapachetoolsantutilcompositemapper',\n",
       "  'orgapachetoolsanttypesfilelist',\n",
       "  'orgapachetoolsantunknownelement',\n",
       "  'orgapachetoolsanttaskdefsantlibdefinition',\n",
       "  'orgapachetoolsantpathtokenizer',\n",
       "  'orgapachetoolsantlocation',\n",
       "  'orgapachetoolsantdemuxoutputstream'],\n",
       " 'Functionality': ['extractsuperclass',\n",
       "  'extractsubclass',\n",
       "  'orgapachetoolsanttypesselectorsmodifiedselectorequalcomparator',\n",
       "  'orgapachetoolsantlocation',\n",
       "  'orgapachetoolsantfiltersutilchainreaderhelper',\n",
       "  'orgapachetoolsanttypesselectorsselectselector',\n",
       "  'orgapachetoolsantutilidentitymapper',\n",
       "  'orgapachetoolsanttypesparameter',\n",
       "  'orgapachetoolsanthelperantxmlcontext',\n",
       "  'orgapachetoolsantutilproxysetup',\n",
       "  'orgapachetoolsanttypesresourcesfailfast',\n",
       "  'orgapachetoolsanttarget',\n",
       "  'decreasemethodsecurity',\n",
       "  'orgapachetoolsantinputdefaultinputhandler',\n",
       "  'orgapachetoolsanttypesdescription',\n",
       "  'orgapachetoolsanttypesselectorsselectorutils',\n",
       "  'orgapachetoolsantutilfileutils',\n",
       "  'orgapachetoolsanttypesselectorsnoneselector',\n",
       "  'orgapachetoolsantpropertyhelper',\n",
       "  'orgapachetoolsantunknownelement',\n",
       "  'orgapachetoolsantbuildevent',\n",
       "  'orgapachetoolsantutilidentitystack',\n",
       "  'orgapachetoolsantunsupportedelementexception',\n",
       "  'orgapachetoolsanttaskdefsmanifest',\n",
       "  'orgapachetoolsanttypesselectorsmodifiedselectorchecksumalgorithm',\n",
       "  'orgapachetoolsantruntimeconfigurable',\n",
       "  'orgapachetoolsanttypesselectorsdependselector',\n",
       "  'orgapachetoolsantutilfiletokenizer',\n",
       "  'orgapachetoolsanttypesselectorscontainsselector',\n",
       "  'orgapachetoolsantdemuxoutputstream',\n",
       "  'orgapachetoolsanttypesresourcesfileresourceiterator',\n",
       "  'orgapachetoolsantintrospectionhelper',\n",
       "  'orgapachetoolsanttypesselectorsmodifiedselectorhashvaluealgorithm',\n",
       "  'orgapachetoolsanttypesfilterset',\n",
       "  'orgapachetoolsantutilstringtokenizer',\n",
       "  'orgapachetoolsanttaskdefsconditionos',\n",
       "  'orgapachetoolsantprojectcomponent',\n",
       "  'orgapachetoolsanttypessubstitution',\n",
       "  'orgapachetoolsanttypesresourcesrestrict',\n",
       "  'pushdownmethod',\n",
       "  'orgapachetoolsanttaskdefsmanifestexception',\n",
       "  'orgapachetoolsantdemuxinputstream',\n",
       "  'orgapachetoolsanttypespatternset',\n",
       "  'orgapachetoolsantfilterstabstospaces',\n",
       "  'orgapachetoolsanttask',\n",
       "  'orgapachetoolsanttypesresourcesselectorsdate',\n",
       "  'orgapachetoolsantdefaultlogger',\n",
       "  'orgapachetoolsanttypesfiltersetcollection',\n",
       "  'orgapachetoolsantutilloaderutils',\n",
       "  'orgapachetoolsantmain'],\n",
       " 'Reusability': ['orgapachetoolsanttaskdefsmanifestexception',\n",
       "  'orgapachetoolsanttaskdefsconditionos',\n",
       "  'orgapachetoolsantexitstatusexception',\n",
       "  'orgapachetoolsanttypesresourcesselectorsnot',\n",
       "  'orgapachetoolsantutilproxysetup',\n",
       "  'orgapachetoolsanttaskdefstypedef',\n",
       "  'orgapachetoolsantfiltersbaseparamfilterreader',\n",
       "  'orgapachetoolsantintrospectionhelper',\n",
       "  'orgapachetoolsantutilidentitymapper',\n",
       "  'orgapachetoolsantfiltersexpandproperties',\n",
       "  'orgapachetoolsantutiljavaenvutils',\n",
       "  'orgapachetoolsanttypesfiltersetcollection',\n",
       "  'orgapachetoolsanttypesselectorssizeselector',\n",
       "  'orgapachetoolsantbuildevent',\n",
       "  'orgapachetoolsanttaskdefsdefiner',\n",
       "  'orgapachetoolsantutilregexpregexpmatcherfactory',\n",
       "  'orgapachetoolsanttypessubstitution',\n",
       "  'orgapachetoolsantfiltersheadfilter',\n",
       "  'orgapachetoolsanttaskdefsmanifest',\n",
       "  'orgapachetoolsantutilloaderutils',\n",
       "  'orgapachetoolsanttypesselectorsdateselector',\n",
       "  'orgapachetoolsanthelperprojecthelper2',\n",
       "  'orgapachetoolsanttypesresourcesselectorstype',\n",
       "  'orgapachetoolsantunsupportedattributeexception',\n",
       "  'orgapachetoolsanttypesselectorsextendselector',\n",
       "  'orgapachetoolsantutilstringtokenizer',\n",
       "  'orgapachetoolsanttaskdefsantlibdefinition',\n",
       "  'orgapachetoolsantutilfiletokenizer',\n",
       "  'decreasemethodsecurity',\n",
       "  'orgapachetoolsanttypesfilterset',\n",
       "  'orgapachetoolsanttaskadapter',\n",
       "  'orgapachetoolsanttypesselectorspresentselector',\n",
       "  'encapsulatefield',\n",
       "  'decreasefieldsecurity',\n",
       "  'orgapachetoolsanttypesresourcesfileresource',\n",
       "  'orgapachetoolsantutilidentitystack',\n",
       "  'orgapachetoolsantdemuxinputstream',\n",
       "  'orgapachetoolsanttypesselectorsbaseselector',\n",
       "  'orgapachetoolsantutilregexpregexpfactory',\n",
       "  'orgapachetoolsanttypesselectorsselectselector',\n",
       "  'orgapachetoolsanttypesdatatype',\n",
       "  'orgapachetoolsantfiltersbasefilterreader',\n",
       "  'orgapachetoolsanthelperprojecthelperimpl',\n",
       "  'orgapachetoolsantutilstringutils',\n",
       "  'orgapachetoolsantdirectoryscanner',\n",
       "  'orgapachetoolsantproject',\n",
       "  'orgapachetoolsantprojecthelper',\n",
       "  'orgapachetoolsantutilfileutils',\n",
       "  'orgapachetoolsanttypesselectorsdependselector',\n",
       "  'orgapachetoolsanttypesselectorsbaseextendselector'],\n",
       " 'Understandability': ['extractsuperclass',\n",
       "  'extractclass',\n",
       "  'extractsubclass',\n",
       "  'orgapachetoolsantutilstringutils',\n",
       "  'orgapachetoolsantunsupportedattributeexception',\n",
       "  'orgapachetoolsantutilcollectionutils',\n",
       "  'orgapachetoolsantutilclasspathutils',\n",
       "  'orgapachetoolsantutildateutils',\n",
       "  'orgapachetoolsantexitstatusexception',\n",
       "  'orgapachetoolsantutilidentitystack',\n",
       "  'orgapachetoolsantutilregexpregexpfactory',\n",
       "  'orgapachetoolsantinputinputrequest',\n",
       "  'orgapachetoolsantunsupportedelementexception',\n",
       "  'orgapachetoolsantutilregexpregexpmatcherfactory',\n",
       "  'orgapachetoolsantutilidentitymapper',\n",
       "  'orgapachetoolsantfiltersstriplinecomments',\n",
       "  'pushdownfield',\n",
       "  'orgapachetoolsanttypesfilelist',\n",
       "  'orgapachetoolsanttypessubstitution',\n",
       "  'encapsulatefield',\n",
       "  'orgapachetoolsanttypesselectorsandselector',\n",
       "  'orgapachetoolsanttypesselectorsmodifiedselectorequalcomparator',\n",
       "  'orgapachetoolsantfiltersheadfilter',\n",
       "  'orgapachetoolsanttypesresourcesselectorsnot',\n",
       "  'orgapachetoolsanttypesreference',\n",
       "  'orgapachetoolsanttypesselectorsdepthselector',\n",
       "  'orgapachetoolsanttypesselectorssizeselector',\n",
       "  'orgapachetoolsanttypesresourcesbaseresourcecollectionwrapper',\n",
       "  'orgapachetoolsantintrospectionhelper',\n",
       "  'orgapachetoolsantutiljavaenvutils',\n",
       "  'orgapachetoolsantdemuxoutputstream',\n",
       "  'orgapachetoolsanttypesselectorsnotselector',\n",
       "  'orgapachetoolsanttaskdefsantlib',\n",
       "  'orgapachetoolsantfiltersstriplinebreaks',\n",
       "  'orgapachetoolsantutilloaderutils',\n",
       "  'orgapachetoolsantbuildevent',\n",
       "  'orgapachetoolsanttypesselectorsdependselector',\n",
       "  'orgapachetoolsanthelperprojecthelper2',\n",
       "  'orgapachetoolsanttypesselectorsmodifiedselectorhashvaluealgorithm',\n",
       "  'orgapachetoolsanttypesselectorstypeselector',\n",
       "  'orgapachetoolsanttypesdirset',\n",
       "  'orgapachetoolsantutiljaxputils',\n",
       "  'orgapachetoolsanttaskdefsdefiner',\n",
       "  'orgapachetoolsanttypesresourcesselectorstype',\n",
       "  'orgapachetoolsanttypesabstractfileset',\n",
       "  'pullupfield',\n",
       "  'orgapachetoolsanthelperprojecthelperimpl',\n",
       "  'orgapachetoolsantcomponenthelper',\n",
       "  'orgapachetoolsantfilterstabstospaces',\n",
       "  'orgapachetoolsanttypesselectorsmajorityselector']}"
      ]
     },
     "execution_count": 119,
     "metadata": {},
     "output_type": "execute_result"
    }
   ],
   "source": [
    "important_features"
   ]
  },
  {
   "cell_type": "code",
   "execution_count": 120,
   "metadata": {},
   "outputs": [
    {
     "data": {
      "text/plain": [
       "'extractsuperclass org.argouml.ocl.argoany extractclass org.argouml.uml.diagram.collaboration.collabdiagramgraphmodel decreasefieldsecurity org.argouml.taskmgmt.progressevent extractclass org.argouml.uml.cognitive.projectmembertodolist extractsubclass org.argouml.util.osdep.osxadapter extractsubclass org.argouml.uml.reveng.ui.problemsdialog increasemethodsecurity org.argouml.ui.targetmanager.targetmanager extractclass org.argouml.uml.diagram.state.statediagramgraphmodel extractsuperclass class_7 extractclass org.argouml.ui.explorer.dndexplorertree decreasefieldsecurity org.argouml.gefext.argofigink extractclass org.argouml.util.osdep.osutil extractsubclass org.argouml.language.ui.languagecombobox decreasemethodsecurity org.argouml.uml.diagram.state.ui.figtransition extractsubclass org.argouml.ui.finddialog extractclass org.argouml.uml.diagram.state.ui.figjunctionstate extractsuperclass org.argouml.language.ui.languagecombobox extractclass org.argouml.notation.providers.java.associationnamenotationjava extractclass org.argouml.configuration.configurationfactory extractsuperclass org.argouml.uml.diagram.activity.layout.activitydiagramlayouter '"
      ]
     },
     "execution_count": 120,
     "metadata": {},
     "output_type": "execute_result"
    }
   ],
   "source": [
    "# solution number \n",
    "smallidx = 101\n",
    "for idx, sol in enumerate(solution_str): \n",
    "    if len(sol.split(\" \")) < len(solution_str[smallidx].split(\" \")): \n",
    "        smallidx = idx\n",
    "\n",
    "solution_num = smallidx\n",
    "solution = [solution_str[solution_num], objectives[solution_num]]\n",
    "solution[0]"
   ]
  },
  {
   "cell_type": "code",
   "execution_count": 121,
   "metadata": {},
   "outputs": [
    {
     "name": "stdout",
     "output_type": "stream",
     "text": [
      "Solution 3489 improved the following QMOODs:\n"
     ]
    },
    {
     "data": {
      "text/plain": [
       "['Functionality', 'Understandability']"
      ]
     },
     "execution_count": 121,
     "metadata": {},
     "output_type": "execute_result"
    }
   ],
   "source": [
    "improved_objectives = np.where(solution[1] == 1)[0]\n",
    "improved_features = [list(important_features.keys())[i] for i in improved_objectives]\n",
    "print(f\"Solution {solution_num} improved the following QMOODs:\")\n",
    "improved_features"
   ]
  },
  {
   "cell_type": "code",
   "execution_count": 122,
   "metadata": {
    "scrolled": false
   },
   "outputs": [
    {
     "name": "stdout",
     "output_type": "stream",
     "text": [
      "Summary: \n",
      "\n",
      "The refactoring solution improved Functionality.\n",
      "\tBecause it had extractsuperclass as a refactoring operation.\n",
      "\tBecause it had extractsubclass as a refactoring operation.\n",
      "\tBecause it had decreasemethodsecurity as a refactoring operation.\n",
      "The refactoring solution improved Understandability.\n",
      "\tBecause it had extractsuperclass as a refactoring operation.\n",
      "\tBecause it had extractclass as a refactoring operation.\n",
      "\tBecause it had extractsubclass as a refactoring operation.\n"
     ]
    }
   ],
   "source": [
    "# stripping the .'s \n",
    "explanation = defaultdict(list)\n",
    "\n",
    "print(\"Summary: \\n\")\n",
    "for qmood in improved_features:\n",
    "    print(f\"The refactoring solution improved {qmood}.\")\n",
    "    flag = True\n",
    "    for striped_oploc in important_features[qmood]:\n",
    "        if striped_oploc in solution[0].replace(\".\", \"\"):\n",
    "            flag = False\n",
    "            if striped_oploc in refactoring_operations: \n",
    "                print(f\"\\tBecause it had {striped_oploc} as a refactoring operation.\")\n",
    "            else: \n",
    "                print(f\"\\tBecause it had operated on the location: {striped_oploc}.\")\n",
    "            explanation[striped_oploc].append(qmood)\n",
    "    if flag:\n",
    "        print(\"\\tBut no correlation could be made.\")\n",
    "\n",
    "explanation = dict(explanation)"
   ]
  },
  {
   "cell_type": "code",
   "execution_count": 123,
   "metadata": {},
   "outputs": [
    {
     "data": {
      "text/plain": [
       "{'extractsuperclass': ['Functionality', 'Understandability'],\n",
       " 'extractsubclass': ['Functionality', 'Understandability'],\n",
       " 'decreasemethodsecurity': ['Functionality'],\n",
       " 'extractclass': ['Understandability']}"
      ]
     },
     "execution_count": 123,
     "metadata": {},
     "output_type": "execute_result"
    }
   ],
   "source": [
    "explanation"
   ]
  },
  {
   "cell_type": "code",
   "execution_count": 124,
   "metadata": {},
   "outputs": [
    {
     "name": "stdout",
     "output_type": "stream",
     "text": [
      "\u001b[34mextracts\u001b[32muperclass \u001b[30morg.argouml.ocl.argoany \u001b[32mextractclass \u001b[30morg.argouml.uml.diagram.collaboration.collabdiagramgraphmodel \u001b[30mdecreasefieldsecurity \u001b[30morg.argouml.taskmgmt.progressevent \u001b[32mextractclass \u001b[30morg.argouml.uml.cognitive.projectmembertodolist \u001b[34mextract\u001b[32msubclass \u001b[30morg.argouml.util.osdep.osxadapter \u001b[34mextract\u001b[32msubclass \u001b[30morg.argouml.uml.reveng.ui.problemsdialog \u001b[30mincreasemethodsecurity \u001b[30morg.argouml.ui.targetmanager.targetmanager \u001b[32mextractclass \u001b[30morg.argouml.uml.diagram.state.statediagramgraphmodel \u001b[34mextracts\u001b[32muperclass \u001b[30mclass_7 \u001b[32mextractclass \u001b[30morg.argouml.ui.explorer.dndexplorertree \u001b[30mdecreasefieldsecurity \u001b[30morg.argouml.gefext.argofigink \u001b[32mextractclass \u001b[30morg.argouml.util.osdep.osutil \u001b[34mextract\u001b[32msubclass \u001b[30morg.argouml.language.ui.languagecombobox \u001b[34mdecreasemethodsecurity \u001b[30morg.argouml.uml.diagram.state.ui.figtransition \u001b[34mextract\u001b[32msubclass \u001b[30morg.argouml.ui.finddialog \u001b[32mextractclass \u001b[30morg.argouml.uml.diagram.state.ui.figjunctionstate \u001b[34mextracts\u001b[32muperclass \u001b[30morg.argouml.language.ui.languagecombobox \u001b[32mextractclass \u001b[30morg.argouml.notation.providers.java.associationnamenotationjava \u001b[32mextractclass \u001b[30morg.argouml.configuration.configurationfactory \u001b[34mextracts\u001b[32muperclass \u001b[30morg.argouml.uml.diagram.activity.layout.activitydiagramlayouter "
     ]
    }
   ],
   "source": [
    "# print highlited solution\n",
    "# settings colors\n",
    "tmp = [Fore.BLUE, Fore.GREEN, Fore.MAGENTA, Fore.RED, Fore.LIGHTRED_EX, Fore.LIGHTBLACK_EX]\n",
    "colors = dict(zip(improved_features, tmp))\n",
    "\n",
    "for oploc in solution[0].split():\n",
    "    striped_oploc = oploc.replace(\".\", \"\")\n",
    "    # if oploc is important print with colors\n",
    "    if striped_oploc in explanation.keys():\n",
    "        # the qmood improved by oploc\n",
    "        tmpl = explanation[striped_oploc]\n",
    "        # important for only 1 qmood ==> 1 color\n",
    "        if len(tmpl) == 1: \n",
    "            color = colors[tmpl[0]]\n",
    "            print(color + oploc, end=\" \")\n",
    "        \n",
    "        # important for many qmoods ==> many colors\n",
    "        elif len(tmpl) != 0: \n",
    "            # dividing into pieces\n",
    "            l = len(oploc) // len(tmpl)\n",
    "            iters = [iter(oploc)] * l\n",
    "            pieces = [\"\".join(piece) for piece in zip(*iters)]\n",
    "            if len(oploc) % l != 0:\n",
    "                pieces[-1] = pieces[-1] + oploc[-(len(oploc) % l):]\n",
    "            for piece, color in zip(pieces, [colors[qmood] for qmood in tmpl]):\n",
    "                print(color + piece, end=\"\")\n",
    "            \n",
    "            print(end=\" \")\n",
    "            \n",
    "    else:\n",
    "         print(Fore.BLACK + oploc, end=\" \")"
   ]
  },
  {
   "cell_type": "code",
   "execution_count": null,
   "metadata": {},
   "outputs": [],
   "source": []
  }
 ],
 "metadata": {
  "kernelspec": {
   "display_name": "Python 3",
   "language": "python",
   "name": "python3"
  },
  "language_info": {
   "codemirror_mode": {
    "name": "ipython",
    "version": 3
   },
   "file_extension": ".py",
   "mimetype": "text/x-python",
   "name": "python",
   "nbconvert_exporter": "python",
   "pygments_lexer": "ipython3",
   "version": "3.6.8"
  }
 },
 "nbformat": 4,
 "nbformat_minor": 2
}
